{
 "cells": [
  {
   "cell_type": "code",
   "execution_count": 36,
   "metadata": {},
   "outputs": [],
   "source": [
    "import csv\n",
    "\n",
    "from utils import get_client, get_embedding_function, get_or_create_collection\n"
   ]
  },
  {
   "cell_type": "code",
   "execution_count": 37,
   "metadata": {},
   "outputs": [],
   "source": [
    "client = get_client(client_type='persistent', path='../dbs')\n",
    "embedding_function = get_embedding_function(model_name='paraphrase-albert-small-v2')\n",
    "collection = get_or_create_collection(client=client, name='my_collection', embedding_function=embedding_function)"
   ]
  },
  {
   "cell_type": "code",
   "execution_count": 38,
   "metadata": {},
   "outputs": [],
   "source": [
    "with open('../data/dishes.csv') as f:\n",
    "  lines = csv.reader(f)\n",
    "\n",
    "  documents = []\n",
    "  metadatas = []\n",
    "  ids = []\n",
    "  id = 1\n",
    "\n",
    "  for i, line in enumerate(lines):\n",
    "    if i==0:\n",
    "      continue\n",
    "    \n",
    "    documents.append(line[1])\n",
    "    metadatas.append({'item_id': line[0]})\n",
    "    ids.append(str(id))\n",
    "    id+=1"
   ]
  },
  {
   "cell_type": "code",
   "execution_count": 39,
   "metadata": {},
   "outputs": [],
   "source": [
    "collection.add(\n",
    "  documents=documents,\n",
    "  metadatas=metadatas,\n",
    "  ids=ids)"
   ]
  },
  {
   "cell_type": "code",
   "execution_count": 40,
   "metadata": {},
   "outputs": [
    {
     "name": "stdout",
     "output_type": "stream",
     "text": [
      "There are 201 items in the collection\n"
     ]
    }
   ],
   "source": [
    "item_amount = collection.count()\n",
    "print(f\"There are {item_amount} items in the collection\")"
   ]
  },
  {
   "cell_type": "code",
   "execution_count": 41,
   "metadata": {},
   "outputs": [
    {
     "name": "stdout",
     "output_type": "stream",
     "text": [
      "{'ids': [['94', '87', '136', '92', '160']], 'embeddings': None, 'documents': [['Vegan Kung Pao Chicken', 'Vegan Kung Pao Prawns', 'Kung Pao Vegan Prawns', 'Vegan Orange Chicken', 'Vegan Beef Chow Fun']], 'uris': None, 'data': None, 'metadatas': [[{'item_id': 'E67'}, {'item_id': 'E57'}, {'item_id': 'L26'}, {'item_id': 'E65'}, {'item_id': 'R21'}]], 'distances': [[146.98019409179688, 151.08642578125, 155.48764038085938, 155.76536560058594, 161.48300170898438]], 'included': [<IncludeEnum.distances: 'distances'>, <IncludeEnum.documents: 'documents'>, <IncludeEnum.metadatas: 'metadatas'>]}\n"
     ]
    }
   ],
   "source": [
    "result = collection.query(\n",
    "  query_texts=[\"vegan\"],\n",
    "  n_results=5,\n",
    "  include=['distances', 'metadatas', 'documents']\n",
    ")\n",
    "\n",
    "print(result)"
   ]
  },
  {
   "cell_type": "code",
   "execution_count": 42,
   "metadata": {},
   "outputs": [],
   "source": [
    "client.delete_collection(name='my_collection')"
   ]
  }
 ],
 "metadata": {
  "kernelspec": {
   "display_name": "venv",
   "language": "python",
   "name": "python3"
  },
  "language_info": {
   "codemirror_mode": {
    "name": "ipython",
    "version": 3
   },
   "file_extension": ".py",
   "mimetype": "text/x-python",
   "name": "python",
   "nbconvert_exporter": "python",
   "pygments_lexer": "ipython3",
   "version": "3.12.3"
  }
 },
 "nbformat": 4,
 "nbformat_minor": 2
}
