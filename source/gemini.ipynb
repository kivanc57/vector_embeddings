{
 "cells": [
  {
   "cell_type": "code",
   "execution_count": 8,
   "metadata": {},
   "outputs": [],
   "source": [
    "import os\n",
    "import re\n",
    "import chromadb\n",
    "from pathlib import Path\n",
    "import google.generativeai as genai\n",
    "from chromadb.utils import embedding_functions\n",
    "from youtube_transcript_api import YouTubeTranscriptApi\n",
    "from youtube_transcript_api.formatters import TextFormatter\n",
    "\n",
    "from utils import get_client, get_or_create_collection"
   ]
  },
  {
   "cell_type": "code",
   "execution_count": 10,
   "metadata": {},
   "outputs": [],
   "source": [
    "def join_paths(*args):\n",
    "  return os.path.join(*args)"
   ]
  },
  {
   "cell_type": "code",
   "execution_count": 15,
   "metadata": {},
   "outputs": [],
   "source": [
    "GOOGLE_API_KEY = os.getenv('GOOGLE_API_KEY')\n",
    "\n",
    "client = get_client(client_type='persistent', path='../youtube_db')\n",
    "genai.configure(api_key=GOOGLE_API_KEY)\n",
    "gemini_ef = embedding_functions.GoogleGenerativeAiEmbeddingFunction(api_key=GOOGLE_API_KEY)\n",
    "genai_model = genai.GenerativeModel('gemini-1.5-flash')\n",
    "collection = get_or_create_collection(client=client, name='youtube_notes', embedding_function=gemini_ef)"
   ]
  },
  {
   "cell_type": "code",
   "execution_count": 12,
   "metadata": {},
   "outputs": [
    {
     "data": {
      "text/plain": [
       "{'wRmOOWPTRBs': 'https://www.youtube.com/watch?v=wRmOOWPTRBs',\n",
       " '7EMa8hMHcXI': 'https://www.youtube.com/watch?v=7EMa8hMHcXI',\n",
       " 'xWhfs1MYNfc': 'https://www.youtube.com/watch?v=xWhfs1MYNfc',\n",
       " 'BrQLpAGlvko': 'https://www.youtube.com/watch?v=BrQLpAGlvko',\n",
       " 'ht_PoCwpUFQ': 'https://www.youtube.com/watch?v=ht_PoCwpUFQ',\n",
       " '9x1y392RBfc': 'https://www.youtube.com/watch?v=9x1y392RBfc',\n",
       " 'jR3TZv_2jJg': 'https://www.youtube.com/watch?v=jR3TZv_2jJg',\n",
       " '0e4xgZkLuNg': 'https://www.youtube.com/watch?v=0e4xgZkLuNg'}"
      ]
     },
     "execution_count": 12,
     "metadata": {},
     "output_type": "execute_result"
    }
   ],
   "source": [
    "uris = [\n",
    "  \"https://www.youtube.com/watch?v=wRmOOWPTRBs\",\n",
    "  \"https://www.youtube.com/watch?v=7EMa8hMHcXI\",\n",
    "  \"https://www.youtube.com/watch?v=xWhfs1MYNfc\",\n",
    "  \"https://www.youtube.com/watch?v=BrQLpAGlvko\",\n",
    "  \"https://www.youtube.com/watch?v=ht_PoCwpUFQ\",\n",
    "  \"https://www.youtube.com/watch?v=9x1y392RBfc\",\n",
    "  \"https://www.youtube.com/watch?v=jR3TZv_2jJg\",\n",
    "  \"https://www.youtube.com/watch?v=0e4xgZkLuNg\"\n",
    "]\n",
    "\n",
    "video_dict = {}\n",
    "\n",
    "for uri in uris:\n",
    "  video_uri = re.split(\"=\", uri)[1]\n",
    "  video_dict.update({video_uri: uri})\n",
    "\n",
    "video_dict"
   ]
  },
  {
   "cell_type": "code",
   "execution_count": 26,
   "metadata": {},
   "outputs": [],
   "source": [
    "notes_name = 'keynotes.txt'\n",
    "output_folder_name = '../output'\n",
    "for video_id, uri in video_dict.items():\n",
    "\n",
    "  # Get transcript\n",
    "  transcript = YouTubeTranscriptApi.get_transcript(video_id=video_id, languages=['en', 'en-US', 'en-GB'])\n",
    "  transcript = TextFormatter().format_transcript(transcript)\n",
    "  transcript_name = 'transcript.txt'\n",
    "\n",
    "  # Get paths\n",
    "  video_folder_path = join_paths(output_folder_name, video_id)\n",
    "  transcript_path = join_paths(video_folder_path, transcript_name)\n",
    "  notes_path = join_paths(video_folder_path, notes_name)\n",
    "\n",
    "  # Create video folder\n",
    "  Path(video_folder_path).mkdir(parents=True, exist_ok=True)\n",
    "\n",
    "  # Write transcript\n",
    "  with open(transcript_path, \"w\") as file:\n",
    "    file.write(transcript)\n",
    "\n",
    "\n",
    "  # Ask Gemini for the keynotes\n",
    "  prompt = \"Extract key notes from video transcript: \"\n",
    "  response = genai_model.generate_content(prompt + transcript, stream=False)\n",
    "\n",
    "\n",
    "  # Write keynotes\n",
    "  with open(notes_path, \"w\") as file:\n",
    "    file.write(response.text)\n",
    "  \n",
    "  # Add to db\n",
    "  collection.upsert(ids=[video_id], documents=[response.text])"
   ]
  },
  {
   "cell_type": "code",
   "execution_count": 29,
   "metadata": {},
   "outputs": [],
   "source": [
    "# Query the results\n",
    "query_text = \"What are the outcomes of practicing boxing?\"\n",
    "n_results = 2\n",
    "\n",
    "query_results = collection.query(\n",
    "  query_texts=[query_text],\n",
    "  n_results=n_results,\n",
    "  include=['distances', 'documents', 'uris']\n",
    ")"
   ]
  },
  {
   "cell_type": "code",
   "execution_count": 30,
   "metadata": {},
   "outputs": [
    {
     "name": "stdout",
     "output_type": "stream",
     "text": [
      "************************************************************************\n",
      "Video ID: 1\n",
      "************************************************************************\n",
      "Key notes from the video transcript about the effects of boxing on the body:\n",
      "\n",
      "* **Significant Weight Loss:** Boxing is a full-body, high-intensity workout that burns hundreds of calories per hour, leading to significant weight loss.\n",
      "\n",
      "* **Fitter and More Muscular Physique:**  It builds muscle throughout the entire body (chest, shoulders, back, arms, legs, and core), resulting in a leaner, more defined physique.  Improved muscle endurance is also a benefit.\n",
      "\n",
      "* **Improved Heart Health:** Boxing is a form of high-intensity interval training (HIIT), linked to a lower risk of heart disease and increased cardiovascular fitness.  Studies show a correlation between boxing ranking and heart health markers.\n",
      "\n",
      "* **Lowered Blood Pressure:**  HIIT boxing has been shown to significantly lower both systolic and diastolic blood pressure, reducing the risk of heart attacks and strokes.\n",
      "\n",
      "* **Boosted Whole Body Strength:** While often associated with upper body strength, boxing requires the coordinated effort of the entire body, strengthening legs and core muscles as well as the upper body.  A powerful punch comes from the legs pushing against the ground and the core stabilizing the body.\n",
      "\n",
      "The video also emphasizes that boxing training encourages positive lifestyle changes, including healthier dietary choices.\n",
      " \n",
      "\n",
      "************************************************************************\n",
      "Video ID: 2\n",
      "************************************************************************\n",
      "**Key Notes from the Boxing Gym Video Transcript:**\n",
      "\n",
      "* **Positive Impact on Mental Health:** Boxing significantly improves mental health, providing a sense of belonging, discipline, and focus.  It helps alleviate symptoms of anxiety and depression, and prevents many from being unemployed or disengaged from society.\n",
      "\n",
      "* **Physical Benefits:**  Regular boxing training improves muscular strength, power, and anaerobic fitness. Participants often experience weight loss and improved overall health.\n",
      "\n",
      "* **Community and Support:** The Bulldogs boxing gym in Port Talbot provides a supportive community for individuals from diverse backgrounds, including those disengaged from school or society, or those who have had legal issues.  The gym fosters a sense of identity and belonging.\n",
      "\n",
      "* **Discipline and Teamwork:** Although seemingly individual, boxing promotes discipline, teamwork, cooperation, and respect for coaches and fellow members.  It teaches self-control and provides a structured environment.\n",
      "\n",
      "* **Addressing Societal Issues:** The gym tackles challenges faced by young people in Port Talbot, such as lack of opportunity, negative peer influences, and feelings of isolation.  It acts as a mentoring and empowering environment.\n",
      "\n",
      "* **Dispelling Misconceptions:** The gym challenges negative perceptions of Port Talbot, highlighting the community's talent and potential.\n",
      "\n",
      "* **Leadership and Opportunity:** The gym provides opportunities for personal growth and leadership, as demonstrated by one member's experience in becoming a teacher.\n",
      "\n",
      "* **Addressing Aggression:** Contrary to some perceptions, research suggests boxing can reduce aggression and teach healthier responses to stressful situations.\n",
      "\n",
      "* **Risk vs. Reward:** While acknowledging the risk of physical injury, the transcript argues that the benefits of boxing significantly outweigh these risks.\n",
      "\n",
      "In essence, the transcript highlights the transformative power of boxing, not just as a sport, but as a tool for personal development, community building, and positive societal impact.\n",
      " \n",
      "\n"
     ]
    }
   ],
   "source": [
    "# Print the results\n",
    "for i in range(len(query_results['ids'][0])):\n",
    "  id       = query_results[\"ids\"][0][i]\n",
    "  document = query_results[\"documents\"][0][i]\n",
    "\n",
    "  print(\"************************************************************************\")\n",
    "  print(f\"Video ID: {i+1}\")\n",
    "  print(\"************************************************************************\")\n",
    "  print(document, \"\\n\")"
   ]
  },
  {
   "cell_type": "code",
   "execution_count": 31,
   "metadata": {},
   "outputs": [
    {
     "name": "stdout",
     "output_type": "stream",
     "text": [
      "Practicing boxing leads to significant weight loss, a fitter and more muscular physique, improved heart health (including lower blood pressure), and boosted whole body strength.  It also encourages positive lifestyle changes, such as healthier eating habits.\n",
      "\n"
     ]
    }
   ],
   "source": [
    "\n",
    "prompt = \"Answer the following QUESTION using DOCUMENT as context.\"\n",
    "prompt += f\"QUESTION: {query_text}\"\n",
    "prompt += f\"DOCUMENT: {query_results[\"documents\"][0][0]}\"\n",
    "\n",
    "response = genai_model.generate_content(prompt, stream=False)\n",
    "print(response.text)"
   ]
  }
 ],
 "metadata": {
  "kernelspec": {
   "display_name": "venv",
   "language": "python",
   "name": "python3"
  },
  "language_info": {
   "codemirror_mode": {
    "name": "ipython",
    "version": 3
   },
   "file_extension": ".py",
   "mimetype": "text/x-python",
   "name": "python",
   "nbconvert_exporter": "python",
   "pygments_lexer": "ipython3",
   "version": "3.12.3"
  }
 },
 "nbformat": 4,
 "nbformat_minor": 2
}
